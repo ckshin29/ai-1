{
 "cells": [
  {
   "cell_type": "code",
   "execution_count": 5,
   "id": "5f572b9e",
   "metadata": {},
   "outputs": [
    {
     "name": "stdout",
     "output_type": "stream",
     "text": [
      "True\n"
     ]
    }
   ],
   "source": [
    "# 조건문\n",
    "\n",
    "# bool & if  \n",
    "\n",
    "print(True)"
   ]
  },
  {
   "cell_type": "code",
   "execution_count": 11,
   "id": "c6d4c5be",
   "metadata": {},
   "outputs": [
    {
     "name": "stdout",
     "output_type": "stream",
     "text": [
      "False\n",
      "True\n",
      "True\n",
      "False\n",
      "False\n"
     ]
    }
   ],
   "source": [
    "print(10 == 100)\n",
    "print(10 != 100)\n",
    "print(10< 100)\n",
    "print(10>100)\n",
    "print(10>=100)"
   ]
  },
  {
   "cell_type": "code",
   "execution_count": 16,
   "id": "45c5de78",
   "metadata": {},
   "outputs": [
    {
     "name": "stdout",
     "output_type": "stream",
     "text": [
      "True\n",
      "False\n",
      "True\n",
      "False\n",
      "True\n"
     ]
    }
   ],
   "source": [
    "print(\"가방\" == \"가방\")\n",
    "print(\"가방\" == \"백\")\n",
    "print(\"가방\" != \"백\")\n",
    "print(\"가방\" > \"백\")  # 한글은 사전 순서(가나다순)\n",
    "print(\"가방\" < \"백\")"
   ]
  },
  {
   "cell_type": "code",
   "execution_count": 23,
   "id": "aed0e774",
   "metadata": {},
   "outputs": [
    {
     "name": "stdout",
     "output_type": "stream",
     "text": [
      "정수를 입력 하세요 >>1\n",
      "양수입니다.\n"
     ]
    }
   ],
   "source": [
    "# if 조건문....\n",
    "# 조건에 따라 특정 코드를 실행하거나 특정 코드를 실행하지 않게 만들고 싶을때 사용\n",
    "# 코드의 실행 흐름을 변경시키는 것을 조건 분기 라고 부른다. \n",
    "\n",
    "num = int(input('정수를 입력 하세요 >>'))\n",
    "    \n",
    "if num > 0:\n",
    "    print('양수입니다.')\n",
    "    \n",
    "if num <0:\n",
    "    print('음수입니다.')\n",
    "    \n",
    "if num == 0:\n",
    "    print('0입니다.')"
   ]
  },
  {
   "cell_type": "code",
   "execution_count": 29,
   "id": "4b11bc92",
   "metadata": {},
   "outputs": [
    {
     "name": "stdout",
     "output_type": "stream",
     "text": [
      "2022-01-28 14:32:48.027952\n",
      "2022 년\n",
      "1 월\n",
      "28\n",
      "14\n",
      "32\n",
      "48\n"
     ]
    }
   ],
   "source": [
    "# 날짜/시간과 관련된 기능을 가져온다. \n",
    "\n",
    "import datetime\n",
    "\n",
    "# 현재의 날짜와 시간을 구하는 함수\n",
    "now = datetime.datetime.now()\n",
    "\n",
    "print(now)\n",
    "print(now.year, '년')\n",
    "print(now.month, '월')\n",
    "print(now.day)\n",
    "print(now.hour)\n",
    "print(now.minute)\n",
    "print(now.second)"
   ]
  },
  {
   "cell_type": "code",
   "execution_count": 31,
   "id": "8af3f01c",
   "metadata": {},
   "outputs": [
    {
     "name": "stdout",
     "output_type": "stream",
     "text": [
      "현재 시각은14시 39분 오후입니다.\n"
     ]
    }
   ],
   "source": [
    "# 현재 시각은 14시 33분 오후입니다.\n",
    "# 현재 시각은 08시 01분 오전입니다.\n",
    "\n",
    "import datetime\n",
    "\n",
    "now = datetime.datetime.now()\n",
    "\n",
    "if now.hour < 12:\n",
    "    print(f'현재 시각은{now.hour}시 {now.minute}분 오전입니다.')\n",
    "\n",
    "if now.hour >= 12:\n",
    "    print(f'현재 시각은{now.hour}시 {now.minute}분 오후입니다.')"
   ]
  },
  {
   "cell_type": "code",
   "execution_count": 33,
   "id": "5092ed6e",
   "metadata": {},
   "outputs": [
    {
     "name": "stdout",
     "output_type": "stream",
     "text": [
      "이번 달은 1월로 겨울입니다.\n"
     ]
    }
   ],
   "source": [
    "# 12,1,2 겨울 3,4,5 봄 6,7,8 여름 9,10,11 가을\n",
    "# 이번 달은 1월로 겨울입니다.\n",
    "# if 만 사용하세요\n",
    "\n",
    "# by 임지연\n",
    "season = ''\n",
    "\n",
    "if 3 <= now.month <=5 :\n",
    "    season = '봄'\n",
    "\n",
    "if 6 <= now.month <=8 :\n",
    "    season = '여름'\n",
    "\n",
    "if 9 <= now.month <= 11 :\n",
    "    season = '가을'\n",
    "\n",
    "if now.month == 12 or 1 <= now.month <= 2 :\n",
    "    season = '겨울'\n",
    "\n",
    "print(f'이번 달은 {now.month}월로 {season}입니다.')\n"
   ]
  },
  {
   "cell_type": "code",
   "execution_count": null,
   "id": "c8be7925",
   "metadata": {},
   "outputs": [],
   "source": [
    "# % 연산자를 사용하지 않고 \n",
    "# 정수를 입력 받아 그 수가 짝수 인지 홀수 인지를 알려주는 프로그램을 작성하세요\n",
    "\n",
    "# (입력) 정수를 입력하세요 >>> 52\n",
    "# (출력) 짝수입니다.\n",
    "\n",
    "# by 김민희\n",
    "\n",
    "number = input('정수를 입력하세요')\n",
    "\n",
    "if number[-1] in \"02468\":\n",
    "  print('짝수입니다.')\n",
    "\n",
    "if number[-1] in \"13579\":\n",
    "  print('홀수입니다.')\n",
    "\n",
    "\n",
    "# num = int(input(\"정수를 입력하세요>>>\"))\n",
    "# a=str(num)\n",
    "# if  a[-1] == 0 or 2 or 4 or 8:\n",
    "#     print(\"짝수\")\n",
    "# else:\n",
    "#     print(\"홀수입니다\")\n"
   ]
  },
  {
   "cell_type": "code",
   "execution_count": 37,
   "id": "c9096486",
   "metadata": {},
   "outputs": [
    {
     "data": {
      "text/plain": [
       "False"
      ]
     },
     "execution_count": 37,
     "metadata": {},
     "output_type": "execute_result"
    }
   ],
   "source": [
    "'6' in '12345'"
   ]
  },
  {
   "cell_type": "code",
   "execution_count": 40,
   "id": "1c983fec",
   "metadata": {},
   "outputs": [
    {
     "name": "stdout",
     "output_type": "stream",
     "text": [
      "정수 입력12\n"
     ]
    }
   ],
   "source": [
    "# pass \n",
    "\n",
    "number = int(input('정수 입력'))\n",
    "\n",
    "if number > 0:\n",
    "    pass\n",
    "else:\n",
    "    pass"
   ]
  },
  {
   "cell_type": "code",
   "execution_count": 43,
   "id": "b83d204a",
   "metadata": {},
   "outputs": [
    {
     "name": "stdout",
     "output_type": "stream",
     "text": [
      "3\n",
      "4\n",
      "5\n"
     ]
    }
   ],
   "source": [
    "# 리스트와 반복문\n",
    "\n",
    "li = [1,2,3,4,5]  # collection, mutable, ordered\n",
    "\n",
    "for i in li:\n",
    "    if i >=3:\n",
    "        print(i)"
   ]
  },
  {
   "cell_type": "code",
   "execution_count": 44,
   "id": "577b3c92",
   "metadata": {},
   "outputs": [],
   "source": [
    "# 딕셔너리와 반복문\n",
    "\n",
    "dict = {\n",
    "    1:'홍길동',\n",
    "    2:'이몽룡'\n",
    "}"
   ]
  },
  {
   "cell_type": "code",
   "execution_count": 48,
   "id": "681c44c4",
   "metadata": {},
   "outputs": [
    {
     "name": "stdout",
     "output_type": "stream",
     "text": [
      "1 홍길동\n",
      "2 이몽룡\n"
     ]
    }
   ],
   "source": [
    "for i in dict:\n",
    "    print(i, dict[i])"
   ]
  },
  {
   "cell_type": "code",
   "execution_count": 54,
   "id": "78c13f10",
   "metadata": {},
   "outputs": [
    {
     "data": {
      "text/plain": [
       "[0, 2, 4]"
      ]
     },
     "execution_count": 54,
     "metadata": {},
     "output_type": "execute_result"
    }
   ],
   "source": [
    "list(range(0, 5, 2))  # 시작을 생략하면 0 부터 5 미만 까지 , 증감값을 생략하면 1씩 증가"
   ]
  },
  {
   "cell_type": "code",
   "execution_count": 57,
   "id": "90634a6f",
   "metadata": {},
   "outputs": [
    {
     "name": "stdout",
     "output_type": "stream",
     "text": [
      "2번째 반복\n",
      "1번째 반복\n",
      "0번째 반복\n"
     ]
    }
   ],
   "source": [
    "# for : 반복횟수를 정확히 알고 있을 때 주로 사용\n",
    "# while : 반복횟수를 정확히 알수 없을 때 주로 사용 \n",
    "\n",
    "# while 1, for 1\n",
    "\n",
    "# 0번째 반복\n",
    "# 1번째 반복\n",
    "# 2번째 반복\n",
    "\n",
    "for i in range(2,-1,-1):\n",
    "    print(f'{i}번째 반복')\n",
    "    \n",
    "# i = 0    \n",
    "# while i < 3:\n",
    "#     print(f'{i}번째 반복')\n",
    "#     i += 1"
   ]
  },
  {
   "cell_type": "code",
   "execution_count": 59,
   "id": "29e11417",
   "metadata": {},
   "outputs": [
    {
     "name": "stdout",
     "output_type": "stream",
     "text": [
      "0번째 반복입니다.\n",
      "종료할까요(y)>> 1\n",
      "1번째 반복입니다.\n",
      "종료할까요(y)>> 2\n",
      "2번째 반복입니다.\n",
      "종료할까요(y)>> 3\n",
      "3번째 반복입니다.\n",
      "종료할까요(y)>> 4\n",
      "4번째 반복입니다.\n",
      "종료할까요(y)>> y\n",
      "반복을 종료합니다.\n"
     ]
    }
   ],
   "source": [
    "# break / continue \n",
    "\n",
    "# break 반복문 종료 \n",
    "\n",
    "i = 0\n",
    "\n",
    "while True:\n",
    "    print(f'{i}번째 반복입니다.')\n",
    "    i += 1\n",
    "          \n",
    "    inp = input('종료할까요(y)>> ')\n",
    "    if inp in ['Y', 'y']:\n",
    "          print('반복을 종료합니다.')\n",
    "          break\n",
    "    \n",
    "    \n",
    "    \n",
    "    "
   ]
  },
  {
   "cell_type": "code",
   "execution_count": 62,
   "id": "efe8efe7",
   "metadata": {},
   "outputs": [
    {
     "name": "stdout",
     "output_type": "stream",
     "text": [
      "1\n",
      "3\n",
      "5\n",
      "7\n",
      "9\n"
     ]
    }
   ],
   "source": [
    "# continue 현재 반복을 중지하고 다음 반복으로 넘어 갈때 사용\n",
    "# 전체 반복에서 부분을 빼고 일부만 실행 할때 사용\n",
    "\n",
    "for num in range(1,11): \n",
    "    if num % 2 == 0:\n",
    "        continue\n",
    "    print(num)"
   ]
  },
  {
   "cell_type": "code",
   "execution_count": 67,
   "id": "2ec3e9f9",
   "metadata": {},
   "outputs": [
    {
     "name": "stdout",
     "output_type": "stream",
     "text": [
      "1번 진구\n",
      "2번 철수\n",
      "3번 미애\n",
      "4번 형구\n",
      "5번 진수\n"
     ]
    }
   ],
   "source": [
    "# enumerate()  리스트의 요소를 반복할 때 현재 인덱스가 몇 번째 인지 확인\n",
    "\n",
    "# 0번 진구\n",
    "# 1번 철수\n",
    "# 2번 미애\n",
    "# 3번 형구\n",
    "# 4번 진수\n",
    "\n",
    "student = ['진구','철수','미애','형구','진수']\n",
    "\n",
    "# no = 0\n",
    "# for name in student:\n",
    "#     print(f'{no}번 {name}')\n",
    "#     no += 1\n",
    "\n",
    "for no, name in enumerate(student):\n",
    "    print(f'{no+1}번 {name}')"
   ]
  },
  {
   "cell_type": "code",
   "execution_count": 71,
   "id": "f2f8e982",
   "metadata": {},
   "outputs": [
    {
     "name": "stdout",
     "output_type": "stream",
     "text": [
      "홍길동의 키는 185입니다.\n",
      "이몽룡의 키는 189입니다.\n",
      "성춘향의 키는 168입니다.\n"
     ]
    }
   ],
   "source": [
    "# items() 딕셔너리는 items() 함수를 사용하여 key와 value 값을 \n",
    "# 한번 추출할 수있다. \n",
    "\n",
    "dict = {\n",
    "    '홍길동':185,\n",
    "    '이몽룡':189,\n",
    "    '성춘향':168\n",
    "}\n",
    "\n",
    "# for i in dict :\n",
    "#     print(f'{i}의 키는 {dict[i]}입니다.')\n",
    "\n",
    "for n, h in dict.items():\n",
    "    print(f'{n}의 키는 {h}입니다.')"
   ]
  },
  {
   "cell_type": "code",
   "execution_count": 72,
   "id": "7904f09c",
   "metadata": {},
   "outputs": [
    {
     "data": {
      "text/plain": [
       "[0, 2, 4, 6, 8, 10, 12, 14, 16, 18]"
      ]
     },
     "execution_count": 72,
     "metadata": {},
     "output_type": "execute_result"
    }
   ],
   "source": [
    "# 리스트 내포 list comprehensions\n",
    "\n",
    "array = []\n",
    "\n",
    "for i in range(0, 20, 2):\n",
    "    array.append(i)\n",
    "    \n",
    "array"
   ]
  },
  {
   "cell_type": "code",
   "execution_count": 78,
   "id": "dd9a3245",
   "metadata": {},
   "outputs": [
    {
     "name": "stdout",
     "output_type": "stream",
     "text": [
      "[0, 2, 4, 6, 8, 10, 12, 14, 16, 18]\n"
     ]
    }
   ],
   "source": [
    "array = [   i          for i in range(0, 20, 2)       ] \n",
    "print(array)"
   ]
  },
  {
   "cell_type": "code",
   "execution_count": 80,
   "id": "3f3b1da5",
   "metadata": {},
   "outputs": [
    {
     "name": "stdout",
     "output_type": "stream",
     "text": [
      "['사과', '체리', '바나나']\n"
     ]
    }
   ],
   "source": [
    "\n",
    "array = ['사과','체리','바나나','과자']\n",
    "\n",
    "output = [   i       for i in array         if i !='과자' ]\n",
    "\n",
    "print(output)"
   ]
  },
  {
   "cell_type": "code",
   "execution_count": 82,
   "id": "e56d699f",
   "metadata": {},
   "outputs": [
    {
     "name": "stdout",
     "output_type": "stream",
     "text": [
      "0번째 반복입니다\n",
      "종료할까요? y or n\n",
      "반복을 종료합니다\n"
     ]
    }
   ],
   "source": [
    "i=0\n",
    "while True:\n",
    "    print(f'{i}번째 반복입니다')\n",
    "    i+=1\n",
    "    \n",
    "    esc = input(\"종료할까요? y or n\")\n",
    "#     if esc in ['y','Y']:\n",
    "    if esc in 'yY':\n",
    "        print(\"반복을 종료합니다\")\n",
    "        break\n"
   ]
  },
  {
   "cell_type": "code",
   "execution_count": 86,
   "id": "8bceccae",
   "metadata": {},
   "outputs": [
    {
     "data": {
      "text/plain": [
       "True"
      ]
     },
     "execution_count": 86,
     "metadata": {},
     "output_type": "execute_result"
    }
   ],
   "source": [
    "'' in 'yY'\n"
   ]
  },
  {
   "cell_type": "code",
   "execution_count": 87,
   "id": "972843ac",
   "metadata": {},
   "outputs": [
    {
     "name": "stdout",
     "output_type": "stream",
     "text": [
      "정수를 입력하세요>>>\n"
     ]
    },
    {
     "ename": "IndexError",
     "evalue": "string index out of range",
     "output_type": "error",
     "traceback": [
      "\u001b[1;31m---------------------------------------------------------------------------\u001b[0m",
      "\u001b[1;31mIndexError\u001b[0m                                Traceback (most recent call last)",
      "\u001b[1;32m~\\AppData\\Local\\Temp/ipykernel_8072/3708556007.py\u001b[0m in \u001b[0;36m<module>\u001b[1;34m\u001b[0m\n\u001b[0;32m      1\u001b[0m \u001b[0mnum\u001b[0m \u001b[1;33m=\u001b[0m \u001b[0minput\u001b[0m\u001b[1;33m(\u001b[0m\u001b[1;34m\"정수를 입력하세요>>>\"\u001b[0m\u001b[1;33m)\u001b[0m\u001b[1;33m\u001b[0m\u001b[1;33m\u001b[0m\u001b[0m\n\u001b[1;32m----> 2\u001b[1;33m \u001b[1;32mif\u001b[0m \u001b[0mnum\u001b[0m\u001b[1;33m[\u001b[0m\u001b[1;33m-\u001b[0m\u001b[1;36m1\u001b[0m\u001b[1;33m]\u001b[0m \u001b[1;32min\u001b[0m \u001b[1;34m\"02468\"\u001b[0m\u001b[1;33m:\u001b[0m\u001b[1;33m\u001b[0m\u001b[1;33m\u001b[0m\u001b[0m\n\u001b[0m\u001b[0;32m      3\u001b[0m     \u001b[0mprint\u001b[0m\u001b[1;33m(\u001b[0m\u001b[1;34m\"짝수\"\u001b[0m\u001b[1;33m)\u001b[0m\u001b[1;33m\u001b[0m\u001b[1;33m\u001b[0m\u001b[0m\n\u001b[0;32m      4\u001b[0m \u001b[1;32mif\u001b[0m \u001b[0mnum\u001b[0m\u001b[1;33m[\u001b[0m\u001b[1;33m-\u001b[0m\u001b[1;36m1\u001b[0m\u001b[1;33m]\u001b[0m \u001b[1;32min\u001b[0m \u001b[1;34m\"13579\"\u001b[0m\u001b[1;33m:\u001b[0m\u001b[1;33m\u001b[0m\u001b[1;33m\u001b[0m\u001b[0m\n\u001b[0;32m      5\u001b[0m     \u001b[0mprint\u001b[0m\u001b[1;33m(\u001b[0m\u001b[1;34m\"홀수\"\u001b[0m\u001b[1;33m)\u001b[0m\u001b[1;33m\u001b[0m\u001b[1;33m\u001b[0m\u001b[0m\n",
      "\u001b[1;31mIndexError\u001b[0m: string index out of range"
     ]
    }
   ],
   "source": [
    "num = input(\"정수를 입력하세요>>>\")\n",
    "if num[-1] in \"02468\":\n",
    "    print(\"짝수\")\n",
    "if num[-1] in \"13579\":\n",
    "    print(\"홀수\")\n"
   ]
  },
  {
   "cell_type": "code",
   "execution_count": null,
   "id": "ad795ec0",
   "metadata": {},
   "outputs": [],
   "source": []
  }
 ],
 "metadata": {
  "kernelspec": {
   "display_name": "Python 3 (ipykernel)",
   "language": "python",
   "name": "python3"
  },
  "language_info": {
   "codemirror_mode": {
    "name": "ipython",
    "version": 3
   },
   "file_extension": ".py",
   "mimetype": "text/x-python",
   "name": "python",
   "nbconvert_exporter": "python",
   "pygments_lexer": "ipython3",
   "version": "3.9.7"
  }
 },
 "nbformat": 4,
 "nbformat_minor": 5
}
